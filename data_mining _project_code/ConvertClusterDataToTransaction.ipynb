{
 "cells": [
  {
   "cell_type": "code",
   "execution_count": null,
   "id": "fifteen-future",
   "metadata": {},
   "outputs": [],
   "source": [
    "import pandas as pd\n",
    "import os"
   ]
  },
  {
   "cell_type": "code",
   "execution_count": null,
   "id": "flush-morocco",
   "metadata": {},
   "outputs": [],
   "source": [
    "data = pd.read_csv('..\\\\DataMining\\\\src\\\\data\\\\train.csv')\n",
    "clustered_data = pd.read_csv('..\\\\DataMining\\\\src\\\\data\\\\clusteredData.csv')\n",
    "data"
   ]
  },
  {
   "cell_type": "code",
   "execution_count": null,
   "id": "communist-arrangement",
   "metadata": {},
   "outputs": [],
   "source": [
    "clustered_data"
   ]
  },
  {
   "cell_type": "code",
   "execution_count": null,
   "id": "executed-jewelry",
   "metadata": {},
   "outputs": [
    {
     "data": {
      "text/plain": [
       "array(['cluster1', 'cluster3', 'cluster2'], dtype=object)"
      ]
     },
     "execution_count": 26,
     "metadata": {},
     "output_type": "execute_result"
    }
   ],
   "source": [
    "clusters = clustered_data['cluster'].unique()\n",
    "n_cluster = len(clusters)\n",
    "clusters"
   ]
  },
  {
   "cell_type": "code",
   "execution_count": null,
   "id": "twelve-quest",
   "metadata": {},
   "outputs": [],
   "source": [
    "clustered_data = pd.concat([data, clustered_data['cluster']], axis=1)"
   ]
  },
  {
   "cell_type": "code",
   "execution_count": null,
   "id": "about-project",
   "metadata": {
    "scrolled": false
   },
   "outputs": [],
   "source": [
    "clustered_data"
   ]
  },
  {
   "cell_type": "code",
   "execution_count": null,
   "id": "anonymous-prospect",
   "metadata": {},
   "outputs": [],
   "source": [
    "cluster_data_list = [i.applymap(lambda x: 1 if x > 0 else 0) for i in cluster_data_list]"
   ]
  },
  {
   "cell_type": "code",
   "execution_count": null,
   "id": "hawaiian-constitution",
   "metadata": {},
   "outputs": [],
   "source": [
    "cluster_data_list"
   ]
  },
  {
   "cell_type": "code",
   "execution_count": null,
   "id": "stupid-girlfriend",
   "metadata": {},
   "outputs": [],
   "source": [
    "for i in range(len(cluster_data_list)):\n",
    "    cluster_data_list[i].to_csv(\"..\\\\DataMining\\\\src\\\\data\\\\cluster_\"+str(i+1)+\"_transaction_data.csv\", index=None)"
   ]
  },
  {
   "cell_type": "code",
   "execution_count": null,
   "id": "alone-issue",
   "metadata": {},
   "outputs": [],
   "source": []
  }
 ],
 "metadata": {
  "interpreter": {
   "hash": "3757feff5bdcdaf9649e01d89815008308e9e415248d8291ffd0d114b75dfb3a"
  },
  "kernelspec": {
   "display_name": "Python 3.10.4 64-bit",
   "language": "python",
   "name": "python3"
  },
  "language_info": {
   "codemirror_mode": {
    "name": "ipython",
    "version": 3
   },
   "file_extension": ".py",
   "mimetype": "text/x-python",
   "name": "python",
   "nbconvert_exporter": "python",
   "pygments_lexer": "ipython3",
   "version": "3.10.4"
  }
 },
 "nbformat": 4,
 "nbformat_minor": 5
}
